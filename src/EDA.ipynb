{
 "cells": [
  {
   "cell_type": "markdown",
   "metadata": {},
   "source": [
    "# Explorative Data Analysis\n"
   ]
  },
  {
   "cell_type": "markdown",
   "metadata": {},
   "source": [
    "### Import necessary packages"
   ]
  },
  {
   "cell_type": "code",
   "execution_count": 88,
   "metadata": {},
   "outputs": [],
   "source": [
    "import json\n",
    "from typing import List, Dict, Union, Tuple\n",
    "from collections import Counter\n",
    "import numpy as np"
   ]
  },
  {
   "cell_type": "markdown",
   "metadata": {},
   "source": [
    "### Exploring the data"
   ]
  },
  {
   "cell_type": "code",
   "execution_count": 89,
   "metadata": {},
   "outputs": [],
   "source": [
    "match_1_file = open(\"../data/match_1.json\")\n",
    "match_2_file = open(\"../data/match_2.json\")\n",
    "\n",
    "\n",
    "match_1_data = json.load(fp=match_1_file)\n",
    "match_2_data = json.load(fp=match_2_file)"
   ]
  },
  {
   "cell_type": "code",
   "execution_count": 103,
   "metadata": {},
   "outputs": [
    {
     "name": "stdout",
     "output_type": "stream",
     "text": [
      "Number of gaits in match 1: 574\n",
      "Number of gaits in match 2: 613\n"
     ]
    }
   ],
   "source": [
    "print(f\"Number of gaits in match 1: {len(match_1_data)}\")\n",
    "print(f\"Number of gaits in match 2: {len(match_2_data)}\")"
   ]
  },
  {
   "cell_type": "markdown",
   "metadata": {},
   "source": [
    "## Label"
   ]
  },
  {
   "cell_type": "code",
   "execution_count": 104,
   "metadata": {},
   "outputs": [],
   "source": [
    "def count_actions(\n",
    "    match_data: List[Dict[str, Union[str, float, List[float]]]]\n",
    ") -> Dict[str, int]:\n",
    "    \"\"\"Returns the different actions performed in a match with their number of occurences.\n",
    "\n",
    "    Args:\n",
    "        match_data : JSON file containing match information.\n",
    "    \"\"\"\n",
    "    return Counter(gait[\"label\"] for gait in match_data)"
   ]
  },
  {
   "cell_type": "code",
   "execution_count": 105,
   "metadata": {},
   "outputs": [
    {
     "data": {
      "text/plain": [
       "Counter({'walk': 245,\n",
       "         'run': 209,\n",
       "         'dribble': 42,\n",
       "         'rest': 25,\n",
       "         'pass': 24,\n",
       "         'tackle': 20,\n",
       "         'shot': 6,\n",
       "         'cross': 3})"
      ]
     },
     "execution_count": 105,
     "metadata": {},
     "output_type": "execute_result"
    }
   ],
   "source": [
    "count_actions(match_1_data)"
   ]
  },
  {
   "cell_type": "code",
   "execution_count": 106,
   "metadata": {},
   "outputs": [
    {
     "data": {
      "text/plain": [
       "Counter({'run': 343,\n",
       "         'walk': 190,\n",
       "         'dribble': 36,\n",
       "         'shot': 12,\n",
       "         'tackle': 11,\n",
       "         'rest': 10,\n",
       "         'pass': 8,\n",
       "         'no action': 2,\n",
       "         'cross': 1})"
      ]
     },
     "execution_count": 106,
     "metadata": {},
     "output_type": "execute_result"
    }
   ],
   "source": [
    "count_actions(match_2_data)"
   ]
  },
  {
   "cell_type": "code",
   "execution_count": null,
   "metadata": {},
   "outputs": [],
   "source": [
    "def extract_sequences(\n",
    "    match_data: List[Dict[str, Union[str, List[float]]]]\n",
    ") -> List[Tuple[str]]:\n",
    "    \"\"\"Returns the different sequences of actions performed by a player.\n",
    "\n",
    "    Args:\n",
    "        match_data : JSON file containing match information.\n",
    "    \"\"\"\n",
    "    actions = [gait[\"label\"] for gait in match_data]\n",
    "    first_action = actions[0]\n",
    "    allowed_repetitive_actions = [\"run\", \"walk\", \"dribble\"]\n",
    "    sequences = []\n",
    "    sequence = []\n",
    "    for index, action in enumerate(actions[1:-1]):\n",
    "        if action in allowed_repetitive_actions or action != actions[index - 1]:\n",
    "            sequence.append(action)\n",
    "        elif action == first_action and action != actions[index - 1]:\n",
    "            sequences.append(tuple(sequence))\n",
    "            sequence = []\n",
    "    return sequences"
   ]
  },
  {
   "cell_type": "markdown",
   "metadata": {},
   "source": [
    "## Norm"
   ]
  },
  {
   "cell_type": "code",
   "execution_count": 91,
   "metadata": {},
   "outputs": [
    {
     "name": "stdout",
     "output_type": "stream",
     "text": [
      "Norm dimension: 72\n"
     ]
    }
   ],
   "source": [
    "accelerometer_dimension = len(match_1_data[0][\"norm\"])\n",
    "print(f\"Norm dimension: {accelerometer_dimension}\")"
   ]
  },
  {
   "cell_type": "code",
   "execution_count": 92,
   "metadata": {},
   "outputs": [
    {
     "data": {
      "text/plain": [
       "False"
      ]
     },
     "execution_count": 92,
     "metadata": {},
     "output_type": "execute_result"
    }
   ],
   "source": [
    "# Consistency check\n",
    "all(len(gait[\"norm\"]) == accelerometer_dimension for gait in match_1_data)"
   ]
  },
  {
   "cell_type": "code",
   "execution_count": 93,
   "metadata": {},
   "outputs": [],
   "source": [
    "def find_min_max(\n",
    "    match_data: List[Dict[str, Union[str, List[float]]]]\n",
    ") -> Dict[str, int]:\n",
    "    \"\"\"Finds the minimum and maximum of the accelerometer number of dimensions.\n",
    "\n",
    "    Args:\n",
    "        match_data: Object containing a JSON document.\n",
    "    \"\"\"\n",
    "    norm_lengths = [len(gait[\"norm\"]) for gait in match_data]\n",
    "    return {\"MIN\": min(norm_lengths), \"MAX\": max(norm_lengths)}"
   ]
  },
  {
   "cell_type": "code",
   "execution_count": 94,
   "metadata": {},
   "outputs": [
    {
     "data": {
      "text/plain": [
       "{'MIN': 1, 'MAX': 227}"
      ]
     },
     "execution_count": 94,
     "metadata": {},
     "output_type": "execute_result"
    }
   ],
   "source": [
    "find_min_max(match_1_data)"
   ]
  },
  {
   "cell_type": "code",
   "execution_count": 95,
   "metadata": {},
   "outputs": [
    {
     "data": {
      "text/plain": [
       "{'MIN': 3, 'MAX': 723}"
      ]
     },
     "execution_count": 95,
     "metadata": {},
     "output_type": "execute_result"
    }
   ],
   "source": [
    "find_min_max(match_2_data)"
   ]
  },
  {
   "cell_type": "code",
   "execution_count": 99,
   "metadata": {},
   "outputs": [],
   "source": [
    "match_1_data_with_averaged_norm = [\n",
    "    {\"label\": gait[\"label\"], \"norm\": np.mean(gait[\"norm\"])} for gait in match_1_data\n",
    "]\n",
    "with open(\"../data/match_1_data_with_averaged_norm.json\", \"w\") as file:\n",
    "    json.dump(match_1_data_with_averaged_norm, file)"
   ]
  },
  {
   "cell_type": "code",
   "execution_count": 100,
   "metadata": {},
   "outputs": [],
   "source": [
    "match_2_data_with_averaged_norm = [\n",
    "    {\"label\": gait[\"label\"], \"norm\": np.mean(gait[\"norm\"])} for gait in match_2_data\n",
    "]\n",
    "with open(\"../data/match_2_data_with_averaged_norm.json\", \"w\") as file:\n",
    "    json.dump(match_2_data_with_averaged_norm, file)"
   ]
  },
  {
   "cell_type": "code",
   "execution_count": 102,
   "metadata": {},
   "outputs": [],
   "source": [
    "def mean_norm_for_each_action(\n",
    "    match_data_averaged: List[Dict[str, Union[str, float]]], action: str\n",
    ") -> float:\n",
    "    \"\"\"Returns the avearge norm of the actions.\n",
    "\n",
    "    Args:\n",
    "        match_data_averaged : JSON file containing match information with average norm.\n",
    "    \"\"\"\n",
    "\n",
    "    return np.mean(\n",
    "        [gait[\"norm\"] for gait in match_data_averaged if gait[\"label\"] == action]\n",
    "    )"
   ]
  },
  {
   "cell_type": "code",
   "execution_count": 114,
   "metadata": {},
   "outputs": [
    {
     "data": {
      "text/plain": [
       "{'walk': 28.09486687642306,\n",
       " 'rest': 21.83356684290428,\n",
       " 'run': 54.40459298904966,\n",
       " 'tackle': 70.66858172485196,\n",
       " 'dribble': 52.88252588755935,\n",
       " 'pass': 64.13327808012248,\n",
       " 'cross': 46.708457756829354,\n",
       " 'shot': 113.27871688343295}"
      ]
     },
     "execution_count": 114,
     "metadata": {},
     "output_type": "execute_result"
    }
   ],
   "source": [
    "mean_norm_for_each_action_dict = {\n",
    "    action: mean_norm_for_each_action(match_1_data_with_averaged_norm, action)\n",
    "    for action in list(count_actions(match_1_data_with_averaged_norm).keys())\n",
    "}\n",
    "\n",
    "mean_norm_for_each_action_dict"
   ]
  },
  {
   "cell_type": "code",
   "execution_count": 115,
   "metadata": {},
   "outputs": [
    {
     "data": {
      "text/plain": [
       "{'no action': 38.65222535277646,\n",
       " 'run': 56.22519161734227,\n",
       " 'pass': 73.00031950031808,\n",
       " 'rest': 22.712307380205683,\n",
       " 'walk': 29.869326616095396,\n",
       " 'dribble': 65.56369756735364,\n",
       " 'shot': 98.46478534250633,\n",
       " 'tackle': 66.86037467805848,\n",
       " 'cross': 93.89217051873887}"
      ]
     },
     "execution_count": 115,
     "metadata": {},
     "output_type": "execute_result"
    }
   ],
   "source": [
    "mean_norm_for_each_action_dict = {\n",
    "    action: mean_norm_for_each_action(match_2_data_with_averaged_norm, action)\n",
    "    for action in list(count_actions(match_2_data_with_averaged_norm).keys())\n",
    "}\n",
    "\n",
    "mean_norm_for_each_action_dict"
   ]
  }
 ],
 "metadata": {
  "kernelspec": {
   "display_name": "Python 3",
   "language": "python",
   "name": "python3"
  },
  "language_info": {
   "codemirror_mode": {
    "name": "ipython",
    "version": 3
   },
   "file_extension": ".py",
   "mimetype": "text/x-python",
   "name": "python",
   "nbconvert_exporter": "python",
   "pygments_lexer": "ipython3",
   "version": "3.11.6"
  },
  "orig_nbformat": 4
 },
 "nbformat": 4,
 "nbformat_minor": 2
}
