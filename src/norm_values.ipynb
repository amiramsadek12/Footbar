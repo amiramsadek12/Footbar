{
 "cells": [
  {
   "cell_type": "code",
   "execution_count": 1,
   "metadata": {},
   "outputs": [],
   "source": [
    "from data.normvaluesdata import NormValuesData\n",
    "from match import Match\n",
    "from encoder import LabelEncoder\n",
    "from model import GaitValuesPredictor"
   ]
  },
  {
   "cell_type": "code",
   "execution_count": 2,
   "metadata": {},
   "outputs": [],
   "source": [
    "match_1_instance = Match(\"../data/match_1.json\")\n",
    "match_2_instance = Match(\"../data/match_2.json\")"
   ]
  },
  {
   "cell_type": "code",
   "execution_count": 3,
   "metadata": {},
   "outputs": [],
   "source": [
    "encoder = LabelEncoder.load(\"../data/model/encoder.json\")"
   ]
  },
  {
   "cell_type": "code",
   "execution_count": 4,
   "metadata": {},
   "outputs": [],
   "source": [
    "match_1_norm_data = NormValuesData(match_1_instance, encoder)\n",
    "match_2_norm_data = NormValuesData(match_2_instance, encoder)"
   ]
  },
  {
   "cell_type": "code",
   "execution_count": 5,
   "metadata": {},
   "outputs": [],
   "source": [
    "all_data = match_1_norm_data + match_2_norm_data"
   ]
  },
  {
   "cell_type": "code",
   "execution_count": 6,
   "metadata": {},
   "outputs": [],
   "source": [
    "all_data.save()"
   ]
  },
  {
   "cell_type": "code",
   "execution_count": 7,
   "metadata": {},
   "outputs": [
    {
     "data": {
      "text/plain": [
       "[[1], [1], [1], [1], [1], [1], [1], [1], [1], [1]]"
      ]
     },
     "execution_count": 7,
     "metadata": {},
     "output_type": "execute_result"
    }
   ],
   "source": [
    "all_data.X[0:10]"
   ]
  },
  {
   "cell_type": "code",
   "execution_count": 8,
   "metadata": {},
   "outputs": [
    {
     "data": {
      "text/plain": [
       "[[23.177037336396975],\n",
       " [23.36152528524938],\n",
       " [21.535253402993348],\n",
       " [23.400315476270563],\n",
       " [23.0075250246004],\n",
       " [22.92731691635618],\n",
       " [23.14366192455148],\n",
       " [22.91689096213586],\n",
       " [22.265133990831664],\n",
       " [21.444639377371956]]"
      ]
     },
     "execution_count": 8,
     "metadata": {},
     "output_type": "execute_result"
    }
   ],
   "source": [
    "all_data.y[0:10]"
   ]
  },
  {
   "cell_type": "code",
   "execution_count": 9,
   "metadata": {},
   "outputs": [
    {
     "name": "stdout",
     "output_type": "stream",
     "text": [
      "Size of training set: 38909 \n",
      "Size of validation set: 8338 \n",
      "Size of test set: 8338\n"
     ]
    }
   ],
   "source": [
    "X, y = all_data.X, all_data.y\n",
    "all_data.train_test_split(X, y)\n",
    "all_data.info()"
   ]
  },
  {
   "cell_type": "code",
   "execution_count": 10,
   "metadata": {},
   "outputs": [],
   "source": [
    "all_data = NormValuesData.load()"
   ]
  },
  {
   "cell_type": "code",
   "execution_count": 11,
   "metadata": {},
   "outputs": [
    {
     "name": "stdout",
     "output_type": "stream",
     "text": [
      "Size of training set: 38909 \n",
      "Size of validation set: 8338 \n",
      "Size of test set: 8338\n"
     ]
    }
   ],
   "source": [
    "X, y = all_data.X, all_data.y\n",
    "all_data.train_test_split(X, y)\n",
    "all_data.info()"
   ]
  },
  {
   "cell_type": "code",
   "execution_count": 12,
   "metadata": {},
   "outputs": [
    {
     "data": {
      "text/plain": [
       "[[71.89688782493224],\n",
       " [30.587450270895378],\n",
       " [20.039357368494866],\n",
       " [101.68614223159925],\n",
       " [19.027517723291552]]"
      ]
     },
     "execution_count": 12,
     "metadata": {},
     "output_type": "execute_result"
    }
   ],
   "source": [
    "all_data.y_train[0:5]"
   ]
  },
  {
   "cell_type": "code",
   "execution_count": 13,
   "metadata": {},
   "outputs": [],
   "source": [
    "y_train_scaled, y_val_scaled, y_test_scaled = all_data.transform()"
   ]
  },
  {
   "cell_type": "code",
   "execution_count": 14,
   "metadata": {},
   "outputs": [
    {
     "data": {
      "text/plain": [
       "array([[ 0.75220345],\n",
       "       [-0.26724082],\n",
       "       [-0.5275492 ],\n",
       "       [ 1.48734987],\n",
       "       [-0.55251963]])"
      ]
     },
     "execution_count": 14,
     "metadata": {},
     "output_type": "execute_result"
    }
   ],
   "source": [
    "y_train_scaled[0:5]"
   ]
  },
  {
   "cell_type": "code",
   "execution_count": 15,
   "metadata": {},
   "outputs": [],
   "source": [
    "y_train, y_val, y_test = all_data.inverse_transform(\n",
    "    y_train_scaled, y_val_scaled, y_test_scaled\n",
    ")"
   ]
  },
  {
   "cell_type": "code",
   "execution_count": 16,
   "metadata": {},
   "outputs": [
    {
     "data": {
      "text/plain": [
       "array([[ 71.89688782],\n",
       "       [ 30.58745027],\n",
       "       [ 20.03935737],\n",
       "       [101.68614223],\n",
       "       [ 19.02751772]])"
      ]
     },
     "execution_count": 16,
     "metadata": {},
     "output_type": "execute_result"
    }
   ],
   "source": [
    "y_train[0:5]"
   ]
  },
  {
   "cell_type": "code",
   "execution_count": 17,
   "metadata": {},
   "outputs": [
    {
     "data": {
      "text/plain": [
       "{'run': 0,\n",
       " 'walk': 1,\n",
       " 'tackle': 2,\n",
       " 'pass': 3,\n",
       " 'rest': 4,\n",
       " 'cross': 5,\n",
       " 'dribble': 6,\n",
       " 'shot': 7}"
      ]
     },
     "execution_count": 17,
     "metadata": {},
     "output_type": "execute_result"
    }
   ],
   "source": [
    "all_data.encoder.class_to_index"
   ]
  },
  {
   "cell_type": "code",
   "execution_count": 18,
   "metadata": {},
   "outputs": [
    {
     "data": {
      "text/plain": [
       "{7: [103.40276252281521, 43.324540235767444],\n",
       " 6: [58.73537435515671, 19.778875254754126],\n",
       " 5: [58.50438594730673, 20.71163626561395],\n",
       " 0: [55.5358707598909, 21.259298726380546],\n",
       " 1: [28.869918256969598, 5.1838732288056315],\n",
       " 4: [22.08463556784753, 1.410992769255712],\n",
       " 2: [69.3172824501833, 24.40103661518655],\n",
       " 3: [66.35003843517137, 28.070649862435232]}"
      ]
     },
     "execution_count": 18,
     "metadata": {},
     "output_type": "execute_result"
    }
   ],
   "source": [
    "all_data.action_interval"
   ]
  },
  {
   "cell_type": "code",
   "execution_count": 19,
   "metadata": {},
   "outputs": [
    {
     "name": "stderr",
     "output_type": "stream",
     "text": [
      "C:\\Users\\amira\\AppData\\Local\\Packages\\PythonSoftwareFoundation.Python.3.11_qbz5n2kfra8p0\\LocalCache\\local-packages\\Python311\\site-packages\\sklearn\\ensemble\\_gb.py:424: DataConversionWarning: A column-vector y was passed when a 1d array was expected. Please change the shape of y to (n_samples, ), for example using ravel().\n",
      "  y = column_or_1d(y, warn=True)\n"
     ]
    }
   ],
   "source": [
    "gait_predictor = GaitValuesPredictor(data=all_data)\n",
    "gait_predictor.fit(all_data.X_train, y_train_scaled)"
   ]
  },
  {
   "cell_type": "code",
   "execution_count": 20,
   "metadata": {},
   "outputs": [
    {
     "name": "stdout",
     "output_type": "stream",
     "text": [
      "Validation Metrics: \n",
      "MAE: 0.5208969949558435 \n",
      "MSE: 1.0280139291991033 \n",
      "RMSE: 1.0139102175237724 \n",
      "R-squared (R2): 0.06686012744721104\n",
      "\n",
      "Test Metrics: \n",
      "MAE: 0.5104656875808729 \n",
      "MSE: 0.9415479591275622 \n",
      "RMSE: 0.9703339420671433 \n",
      "R-squared (R2): 0.06886267529603596\n",
      "\n"
     ]
    }
   ],
   "source": [
    "gait_predictor.evaluate(all_data.X_val, y_val_scaled, all_data.X_test, y_test_scaled)"
   ]
  },
  {
   "cell_type": "code",
   "execution_count": 21,
   "metadata": {},
   "outputs": [
    {
     "data": {
      "text/plain": [
       "[array([32.]), array([53.]), array([52.]), array([30.]), array([83.])]"
      ]
     },
     "execution_count": 21,
     "metadata": {},
     "output_type": "execute_result"
    }
   ],
   "source": [
    "test_case = 2\n",
    "predicted_values = gait_predictor.predict(test_case, 5)\n",
    "predicted_values"
   ]
  },
  {
   "cell_type": "code",
   "execution_count": 26,
   "metadata": {},
   "outputs": [],
   "source": [
    "gait_predictor.save()"
   ]
  },
  {
   "cell_type": "code",
   "execution_count": 23,
   "metadata": {},
   "outputs": [
    {
     "data": {
      "text/plain": [
       "[array([37.]),\n",
       " array([94.]),\n",
       " array([42.]),\n",
       " array([42.]),\n",
       " array([79.]),\n",
       " array([33.]),\n",
       " array([92.]),\n",
       " array([60.]),\n",
       " array([99.]),\n",
       " array([38.])]"
      ]
     },
     "execution_count": 23,
     "metadata": {},
     "output_type": "execute_result"
    }
   ],
   "source": [
    "gait_predictor = GaitValuesPredictor.load()\n",
    "result = gait_predictor.predict(test_case, 10)\n",
    "result"
   ]
  }
 ],
 "metadata": {
  "kernelspec": {
   "display_name": "Python 3",
   "language": "python",
   "name": "python3"
  },
  "language_info": {
   "codemirror_mode": {
    "name": "ipython",
    "version": 3
   },
   "file_extension": ".py",
   "mimetype": "text/x-python",
   "name": "python",
   "nbconvert_exporter": "python",
   "pygments_lexer": "ipython3",
   "version": "3.11.6"
  },
  "orig_nbformat": 4
 },
 "nbformat": 4,
 "nbformat_minor": 2
}
