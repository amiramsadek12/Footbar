{
 "cells": [
  {
   "cell_type": "markdown",
   "metadata": {},
   "source": [
    "# Imports"
   ]
  },
  {
   "cell_type": "code",
   "execution_count": 1,
   "metadata": {},
   "outputs": [],
   "source": [
    "from match import Match\n",
    "from encoder import LabelEncoder"
   ]
  },
  {
   "cell_type": "code",
   "execution_count": 2,
   "metadata": {},
   "outputs": [],
   "source": [
    "match_1_instance = Match(\"../data/match_1.json\")\n",
    "match_2_instance = Match(\"../data/match_2.json\")"
   ]
  },
  {
   "cell_type": "code",
   "execution_count": 3,
   "metadata": {},
   "outputs": [
    {
     "data": {
      "text/plain": [
       "{'cross',\n",
       " 'dribble',\n",
       " 'no action',\n",
       " 'pass',\n",
       " 'rest',\n",
       " 'run',\n",
       " 'shot',\n",
       " 'tackle',\n",
       " 'walk'}"
      ]
     },
     "execution_count": 3,
     "metadata": {},
     "output_type": "execute_result"
    }
   ],
   "source": [
    "match_2_instance.actions"
   ]
  },
  {
   "cell_type": "code",
   "execution_count": 4,
   "metadata": {},
   "outputs": [
    {
     "name": "stdout",
     "output_type": "stream",
     "text": [
      "Number of gaits in this match is: 613\n"
     ]
    }
   ],
   "source": [
    "match_2_instance.info()"
   ]
  },
  {
   "cell_type": "code",
   "execution_count": 5,
   "metadata": {},
   "outputs": [],
   "source": [
    "# Drop \"no action\" as it only figures twice in the second match\n",
    "for index, element in enumerate(match_2_instance.data):\n",
    "    if element[\"label\"] == \"no action\":\n",
    "        match_2_instance.data.pop(index)"
   ]
  },
  {
   "cell_type": "code",
   "execution_count": 6,
   "metadata": {},
   "outputs": [
    {
     "data": {
      "text/plain": [
       "{'cross', 'dribble', 'pass', 'rest', 'run', 'shot', 'tackle', 'walk'}"
      ]
     },
     "execution_count": 6,
     "metadata": {},
     "output_type": "execute_result"
    }
   ],
   "source": [
    "match_2_instance.actions"
   ]
  },
  {
   "cell_type": "code",
   "execution_count": 7,
   "metadata": {},
   "outputs": [
    {
     "name": "stdout",
     "output_type": "stream",
     "text": [
      "Number of gaits in this match is: 611\n"
     ]
    }
   ],
   "source": [
    "match_2_instance.info()"
   ]
  },
  {
   "cell_type": "code",
   "execution_count": 8,
   "metadata": {},
   "outputs": [],
   "source": [
    "match_1_sequences = match_1_instance.extract_sequences()\n",
    "match_2_sequences = match_2_instance.extract_sequences()"
   ]
  },
  {
   "cell_type": "code",
   "execution_count": 9,
   "metadata": {},
   "outputs": [],
   "source": [
    "match_1_clean_sequences = []\n",
    "for element in match_1_sequences:\n",
    "    match_1_clean_sequences.append(\n",
    "        [nested_element[\"label\"] for nested_element in element]\n",
    "    )"
   ]
  },
  {
   "cell_type": "code",
   "execution_count": 10,
   "metadata": {},
   "outputs": [],
   "source": [
    "match_2_clean_sequences = []\n",
    "for element in match_2_sequences:\n",
    "    match_2_clean_sequences.append(\n",
    "        [nested_element[\"label\"] for nested_element in element]\n",
    "    )"
   ]
  },
  {
   "cell_type": "code",
   "execution_count": 11,
   "metadata": {},
   "outputs": [],
   "source": [
    "all_data = match_1_clean_sequences + match_2_clean_sequences"
   ]
  },
  {
   "cell_type": "code",
   "execution_count": 12,
   "metadata": {},
   "outputs": [
    {
     "name": "stdout",
     "output_type": "stream",
     "text": [
      "['walk', 'walk', 'walk', 'walk', 'rest', 'walk', 'walk', 'walk', 'run', 'run', 'run']\n",
      "['run', 'pass', 'rest', 'walk', 'run', 'run', 'run', 'run', 'run', 'run', 'run', 'run', 'run', 'run', 'run', 'run', 'run', 'run', 'run', 'run', 'run', 'walk', 'walk', 'walk', 'run', 'walk', 'walk', 'run', 'run', 'run', 'run', 'walk', 'walk', 'walk', 'walk', 'walk', 'dribble', 'dribble', 'dribble', 'shot', 'dribble', 'shot', 'walk', 'walk', 'tackle', 'dribble', 'dribble', 'cross', 'run', 'run', 'run', 'run', 'walk', 'dribble', 'pass', 'dribble', 'pass', 'walk', 'rest', 'run', 'run', 'run', 'run', 'run', 'walk', 'walk', 'walk', 'run', 'run', 'tackle', 'run', 'tackle', 'run', 'run', 'run', 'run', 'run', 'tackle', 'tackle', 'run', 'run', 'run', 'run', 'run', 'walk', 'walk', 'walk', 'walk', 'run', 'run', 'run', 'dribble', 'shot', 'shot', 'run', 'run', 'run', 'run', 'run', 'run', 'run', 'run', 'walk', 'walk', 'walk', 'walk', 'run', 'run', 'run', 'run', 'run', 'run', 'run', 'run', 'run', 'walk', 'walk', 'walk', 'run', 'run', 'run', 'run', 'run', 'walk', 'walk', 'walk', 'tackle']\n"
     ]
    }
   ],
   "source": [
    "print(all_data[10])\n",
    "print(all_data[700])"
   ]
  },
  {
   "cell_type": "code",
   "execution_count": 13,
   "metadata": {},
   "outputs": [
    {
     "name": "stdout",
     "output_type": "stream",
     "text": [
      "Data point number: 1: data: ['walk'], target: walk \n",
      "\n",
      "Data point number: 2: data: ['walk', 'walk'], target: walk \n",
      "\n",
      "Data point number: 3: data: ['walk', 'walk', 'walk'], target: walk \n",
      "\n",
      "Data point number: 4: data: ['walk', 'walk', 'walk', 'walk'], target: rest \n",
      "\n",
      "Data point number: 5: data: ['walk', 'walk', 'walk', 'walk', 'rest'], target: walk \n",
      "\n",
      "Data point number: 6: data: ['walk', 'walk', 'walk', 'walk', 'rest', 'walk'], target: walk \n",
      "\n",
      "Data point number: 7: data: ['walk', 'walk', 'walk', 'walk', 'rest', 'walk', 'walk'], target: walk \n",
      "\n",
      "Data point number: 8: data: ['walk', 'walk', 'walk', 'walk', 'rest', 'walk', 'walk', 'walk'], target: run \n",
      "\n",
      "Data point number: 9: data: ['walk', 'walk', 'walk', 'walk', 'rest', 'walk', 'walk', 'walk', 'run'], target: run \n",
      "\n",
      "Data point number: 10: data: ['walk', 'walk', 'walk', 'walk', 'rest', 'walk', 'walk', 'walk', 'run', 'run'], target: run \n",
      "\n"
     ]
    }
   ],
   "source": [
    "X, y = [], []  # X: data, y: labels or targets\n",
    "for element in all_data[1:]:\n",
    "    X.append(element[:-1])\n",
    "    y.append(element[-1])\n",
    "\n",
    "for index, element in enumerate(X[:10]):\n",
    "    print(f\"Data point number: {index+1}: data: {X[index]}, target: {y[index]} \\n\")"
   ]
  },
  {
   "cell_type": "code",
   "execution_count": 14,
   "metadata": {},
   "outputs": [],
   "source": [
    "from sklearn.model_selection import train_test_split\n",
    "\n",
    "X_train, _X, y_train, _y = train_test_split(\n",
    "    X, y, train_size=0.7, random_state=1234, shuffle=True\n",
    ")\n",
    "X_val, X_test, y_val, y_test = train_test_split(\n",
    "    _X, _y, train_size=0.5, random_state=1234, shuffle=True\n",
    ")"
   ]
  },
  {
   "cell_type": "code",
   "execution_count": 15,
   "metadata": {},
   "outputs": [
    {
     "name": "stdout",
     "output_type": "stream",
     "text": [
      "Size of training set: 828 \n",
      "Size of validation set: 178 \n",
      "Size of test set: 178\n"
     ]
    }
   ],
   "source": [
    "print(\n",
    "    f\"Size of training set: {len(X_train)} \\n\"\n",
    "    f\"Size of validation set: {len(X_val)} \\n\"\n",
    "    f\"Size of test set: {len(X_test)}\"\n",
    ")"
   ]
  },
  {
   "cell_type": "code",
   "execution_count": 16,
   "metadata": {},
   "outputs": [
    {
     "data": {
      "text/plain": [
       "{'cross', 'dribble', 'pass', 'rest', 'run', 'shot', 'tackle', 'walk'}"
      ]
     },
     "execution_count": 16,
     "metadata": {},
     "output_type": "execute_result"
    }
   ],
   "source": [
    "classes = set(element for sequence in X_train for element in sequence)\n",
    "classes"
   ]
  },
  {
   "cell_type": "code",
   "execution_count": 17,
   "metadata": {},
   "outputs": [],
   "source": [
    "label_encoder = LabelEncoder()\n",
    "label_encoder.fit(X_train)"
   ]
  },
  {
   "cell_type": "code",
   "execution_count": 18,
   "metadata": {},
   "outputs": [
    {
     "data": {
      "text/plain": [
       "{'walk': 0,\n",
       " 'dribble': 1,\n",
       " 'rest': 2,\n",
       " 'run': 3,\n",
       " 'pass': 4,\n",
       " 'shot': 5,\n",
       " 'tackle': 6,\n",
       " 'cross': 7}"
      ]
     },
     "execution_count": 18,
     "metadata": {},
     "output_type": "execute_result"
    }
   ],
   "source": [
    "label_encoder.class_to_index"
   ]
  },
  {
   "cell_type": "code",
   "execution_count": 19,
   "metadata": {},
   "outputs": [],
   "source": [
    "X_train_transformed = label_encoder.encode(X_train)"
   ]
  },
  {
   "cell_type": "code",
   "execution_count": 20,
   "metadata": {},
   "outputs": [
    {
     "name": "stdout",
     "output_type": "stream",
     "text": [
      "['run', 'pass', 'rest', 'walk', 'run', 'run', 'run', 'run', 'run', 'run', 'run', 'run', 'run', 'run', 'run', 'run', 'run', 'run', 'run', 'run', 'run', 'walk', 'walk', 'walk', 'run', 'walk', 'walk', 'run', 'run', 'run', 'run', 'walk', 'walk', 'walk', 'walk', 'walk', 'dribble', 'dribble', 'dribble', 'shot', 'dribble', 'shot', 'walk', 'walk', 'tackle', 'dribble', 'dribble', 'cross', 'run', 'run', 'run', 'run', 'walk', 'dribble', 'pass', 'dribble', 'pass', 'walk', 'rest', 'run', 'run', 'run', 'run', 'run', 'walk', 'walk', 'walk', 'run', 'run', 'tackle', 'run', 'tackle', 'run', 'run', 'run', 'run', 'run', 'tackle', 'tackle', 'run', 'run', 'run', 'run', 'run', 'walk', 'walk', 'walk', 'walk', 'run', 'run', 'run', 'dribble', 'shot', 'shot', 'run', 'run', 'run', 'run', 'run', 'run', 'run', 'run', 'walk', 'walk', 'walk', 'walk', 'run', 'run', 'run', 'run', 'run', 'run', 'run', 'run', 'run', 'walk', 'walk', 'walk', 'run', 'run', 'run', 'run', 'run', 'walk', 'walk', 'walk', 'tackle', 'walk', 'walk', 'walk', 'walk', 'run', 'run', 'run', 'run', 'run', 'run', 'walk', 'walk', 'walk', 'walk', 'walk', 'run', 'run', 'run', 'run', 'run', 'run', 'run', 'run', 'run', 'run', 'run', 'run', 'run', 'run', 'run', 'run', 'run', 'run', 'run', 'run', 'walk', 'walk', 'walk', 'walk', 'rest', 'walk', 'walk', 'run', 'run', 'walk', 'run', 'run', 'run', 'dribble', 'shot', 'walk', 'walk', 'run', 'run', 'run', 'run', 'run', 'run', 'run', 'run', 'run', 'run', 'walk', 'walk', 'walk', 'walk', 'walk', 'run', 'run', 'run', 'run', 'walk', 'run', 'run', 'run', 'run', 'run', 'run', 'run', 'run', 'run', 'walk', 'walk', 'walk', 'run', 'run', 'run', 'run', 'run', 'run', 'run', 'run', 'run', 'run', 'run', 'run', 'run', 'run', 'run', 'run', 'run', 'run', 'run', 'run', 'run', 'run', 'run', 'run', 'walk', 'run', 'run', 'run', 'run', 'walk', 'run', 'walk', 'walk', 'run', 'run', 'run', 'run', 'dribble', 'dribble', 'dribble', 'dribble', 'dribble', 'pass', 'run', 'run', 'run', 'run', 'run', 'run', 'run', 'run', 'run', 'run', 'walk', 'walk', 'run', 'run', 'run', 'run', 'run', 'dribble', 'dribble', 'dribble', 'pass', 'run', 'run', 'run', 'walk', 'run', 'run', 'run', 'run', 'run', 'run', 'run', 'run', 'run', 'tackle', 'run', 'run', 'run', 'run', 'run', 'run', 'run', 'walk', 'walk', 'walk', 'walk', 'walk', 'walk', 'run', 'run', 'run', 'run', 'tackle', 'run', 'walk', 'walk', 'walk', 'walk', 'tackle', 'run', 'run', 'run', 'walk', 'walk', 'walk', 'walk', 'run', 'run', 'run', 'run', 'run', 'run', 'run', 'run', 'run', 'run', 'run', 'run', 'run', 'run', 'run', 'run', 'run', 'run', 'run', 'run', 'run', 'dribble', 'shot', 'shot', 'walk', 'walk', 'run', 'run', 'run', 'run', 'run', 'run', 'run', 'walk', 'walk', 'walk', 'walk', 'walk', 'walk', 'run', 'run', 'run', 'run', 'dribble', 'dribble', 'dribble', 'dribble', 'run', 'run', 'run', 'run', 'walk', 'walk', 'run', 'run', 'run', 'run', 'run', 'run', 'run', 'run', 'run', 'walk', 'walk', 'run', 'run', 'run', 'run', 'walk', 'run', 'run', 'run', 'run', 'walk', 'walk', 'run', 'dribble', 'walk', 'walk', 'walk', 'walk', 'walk', 'rest', 'walk', 'rest', 'walk', 'walk', 'run', 'run', 'run', 'run', 'tackle', 'run', 'tackle', 'dribble', 'dribble', 'dribble', 'dribble', 'dribble', 'pass', 'dribble', 'pass', 'run', 'run', 'run', 'run', 'run', 'walk', 'rest', 'walk', 'walk', 'walk', 'walk', 'run', 'run', 'run', 'run', 'dribble', 'dribble', 'dribble', 'dribble', 'run', 'run', 'run', 'run', 'run', 'walk', 'walk', 'walk', 'walk', 'walk', 'walk', 'walk', 'walk', 'walk', 'rest', 'walk', 'run', 'walk', 'walk', 'walk', 'walk', 'walk', 'run', 'run', 'run', 'run', 'run', 'run', 'walk', 'walk', 'walk', 'walk', 'run', 'walk', 'walk', 'run', 'run', 'run', 'run', 'walk', 'run', 'run', 'run', 'run', 'run', 'run', 'run', 'run', 'run', 'run', 'walk', 'walk', 'run', 'run', 'run', 'run', 'walk', 'walk', 'walk', 'walk', 'walk', 'walk', 'walk', 'rest', 'walk', 'walk', 'dribble', 'dribble', 'pass', 'run', 'run', 'run', 'run', 'run', 'walk', 'run', 'run', 'run', 'run', 'run', 'shot', 'shot', 'walk', 'walk', 'walk', 'walk', 'run', 'run', 'walk', 'walk', 'walk', 'walk', 'walk', 'walk', 'walk', 'walk', 'walk', 'rest', 'walk', 'walk', 'walk', 'walk', 'walk', 'run', 'run', 'walk', 'walk', 'rest', 'walk', 'walk', 'walk', 'walk', 'walk', 'walk', 'walk', 'walk', 'walk', 'walk', 'walk', 'walk', 'walk', 'walk', 'walk', 'walk', 'run', 'run', 'run', 'run', 'run', 'run', 'run', 'run', 'run', 'run', 'run', 'run']\n",
      "[3, 4, 2, 0, 3, 3, 3, 3, 3, 3, 3, 3, 3, 3, 3, 3, 3, 3, 3, 3, 3, 0, 0, 0, 3, 0, 0, 3, 3, 3, 3, 0, 0, 0, 0, 0, 1, 1, 1, 5, 1, 5, 0, 0, 6, 1, 1, 7, 3, 3, 3, 3, 0, 1, 4, 1, 4, 0, 2, 3, 3, 3, 3, 3, 0, 0, 0, 3, 3, 6, 3, 6, 3, 3, 3, 3, 3, 6, 6, 3, 3, 3, 3, 3, 0, 0, 0, 0, 3, 3, 3, 1, 5, 5, 3, 3, 3, 3, 3, 3, 3, 3, 0, 0, 0, 0, 3, 3, 3, 3, 3, 3, 3, 3, 3, 0, 0, 0, 3, 3, 3, 3, 3, 0, 0, 0, 6, 0, 0, 0, 0, 3, 3, 3, 3, 3, 3, 0, 0, 0, 0, 0, 3, 3, 3, 3, 3, 3, 3, 3, 3, 3, 3, 3, 3, 3, 3, 3, 3, 3, 3, 3, 0, 0, 0, 0, 2, 0, 0, 3, 3, 0, 3, 3, 3, 1, 5, 0, 0, 3, 3, 3, 3, 3, 3, 3, 3, 3, 3, 0, 0, 0, 0, 0, 3, 3, 3, 3, 0, 3, 3, 3, 3, 3, 3, 3, 3, 3, 0, 0, 0, 3, 3, 3, 3, 3, 3, 3, 3, 3, 3, 3, 3, 3, 3, 3, 3, 3, 3, 3, 3, 3, 3, 3, 3, 0, 3, 3, 3, 3, 0, 3, 0, 0, 3, 3, 3, 3, 1, 1, 1, 1, 1, 4, 3, 3, 3, 3, 3, 3, 3, 3, 3, 3, 0, 0, 3, 3, 3, 3, 3, 1, 1, 1, 4, 3, 3, 3, 0, 3, 3, 3, 3, 3, 3, 3, 3, 3, 6, 3, 3, 3, 3, 3, 3, 3, 0, 0, 0, 0, 0, 0, 3, 3, 3, 3, 6, 3, 0, 0, 0, 0, 6, 3, 3, 3, 0, 0, 0, 0, 3, 3, 3, 3, 3, 3, 3, 3, 3, 3, 3, 3, 3, 3, 3, 3, 3, 3, 3, 3, 3, 1, 5, 5, 0, 0, 3, 3, 3, 3, 3, 3, 3, 0, 0, 0, 0, 0, 0, 3, 3, 3, 3, 1, 1, 1, 1, 3, 3, 3, 3, 0, 0, 3, 3, 3, 3, 3, 3, 3, 3, 3, 0, 0, 3, 3, 3, 3, 0, 3, 3, 3, 3, 0, 0, 3, 1, 0, 0, 0, 0, 0, 2, 0, 2, 0, 0, 3, 3, 3, 3, 6, 3, 6, 1, 1, 1, 1, 1, 4, 1, 4, 3, 3, 3, 3, 3, 0, 2, 0, 0, 0, 0, 3, 3, 3, 3, 1, 1, 1, 1, 3, 3, 3, 3, 3, 0, 0, 0, 0, 0, 0, 0, 0, 0, 2, 0, 3, 0, 0, 0, 0, 0, 3, 3, 3, 3, 3, 3, 0, 0, 0, 0, 3, 0, 0, 3, 3, 3, 3, 0, 3, 3, 3, 3, 3, 3, 3, 3, 3, 3, 0, 0, 3, 3, 3, 3, 0, 0, 0, 0, 0, 0, 0, 2, 0, 0, 1, 1, 4, 3, 3, 3, 3, 3, 0, 3, 3, 3, 3, 3, 5, 5, 0, 0, 0, 0, 3, 3, 0, 0, 0, 0, 0, 0, 0, 0, 0, 2, 0, 0, 0, 0, 0, 3, 3, 0, 0, 2, 0, 0, 0, 0, 0, 0, 0, 0, 0, 0, 0, 0, 0, 0, 0, 0, 3, 3, 3, 3, 3, 3, 3, 3, 3, 3, 3, 3]\n"
     ]
    }
   ],
   "source": [
    "print(X_train[0])\n",
    "print(X_train_transformed[0])"
   ]
  },
  {
   "cell_type": "code",
   "execution_count": 21,
   "metadata": {},
   "outputs": [],
   "source": [
    "y_train_transformed = label_encoder.encode(y_train)"
   ]
  },
  {
   "cell_type": "code",
   "execution_count": 22,
   "metadata": {},
   "outputs": [
    {
     "data": {
      "text/plain": [
       "3"
      ]
     },
     "execution_count": 22,
     "metadata": {},
     "output_type": "execute_result"
    }
   ],
   "source": [
    "y_train_transformed[0]"
   ]
  },
  {
   "cell_type": "code",
   "execution_count": null,
   "metadata": {},
   "outputs": [],
   "source": []
  }
 ],
 "metadata": {
  "kernelspec": {
   "display_name": "Python 3",
   "language": "python",
   "name": "python3"
  },
  "language_info": {
   "codemirror_mode": {
    "name": "ipython",
    "version": 3
   },
   "file_extension": ".py",
   "mimetype": "text/x-python",
   "name": "python",
   "nbconvert_exporter": "python",
   "pygments_lexer": "ipython3",
   "version": "3.11.6"
  },
  "orig_nbformat": 4
 },
 "nbformat": 4,
 "nbformat_minor": 2
}
