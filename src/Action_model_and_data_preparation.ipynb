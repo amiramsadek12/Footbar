{
 "cells": [
  {
   "cell_type": "markdown",
   "metadata": {
    "id": "kuKpWOwYwzl8"
   },
   "source": [
    "# Imports"
   ]
  },
  {
   "cell_type": "code",
   "execution_count": 5,
   "metadata": {
    "id": "AL9UqqtYwzmC"
   },
   "outputs": [],
   "source": [
    "from data.actiondata import ActionData\n",
    "from match import Match\n",
    "from encoder import LabelEncoder\n",
    "from model import ActionModel\n",
    "\n",
    "import numpy as np"
   ]
  },
  {
   "cell_type": "code",
   "execution_count": 6,
   "metadata": {
    "id": "Yg12F4NGwzmF"
   },
   "outputs": [],
   "source": [
    "match_1_instance = Match(\"../data/match_1.json\")\n",
    "match_2_instance = Match(\"../data/match_2.json\")"
   ]
  },
  {
   "cell_type": "markdown",
   "metadata": {
    "id": "FJQTJ4LXwzmG"
   },
   "source": [
    "## Drop `no action` for the second match"
   ]
  },
  {
   "cell_type": "code",
   "execution_count": 7,
   "metadata": {
    "colab": {
     "base_uri": "https://localhost:8080/"
    },
    "id": "EEbfWjFSwzmG",
    "outputId": "0e35de84-0b85-43af-ffaf-a02e67fa5eb4"
   },
   "outputs": [
    {
     "name": "stdout",
     "output_type": "stream",
     "text": [
      "Number of gaits in this match is: 613\n"
     ]
    }
   ],
   "source": [
    "match_2_instance.info()"
   ]
  },
  {
   "cell_type": "code",
   "execution_count": 8,
   "metadata": {
    "id": "vuVKltVpwzmH"
   },
   "outputs": [],
   "source": [
    "# Drop \"no action\" as it only figures twice in the second match\n",
    "for index, element in enumerate(match_2_instance.data):\n",
    "    if element[\"label\"] == \"no action\":\n",
    "        match_2_instance.data.pop(index)"
   ]
  },
  {
   "cell_type": "code",
   "execution_count": 9,
   "metadata": {
    "colab": {
     "base_uri": "https://localhost:8080/"
    },
    "id": "WElUD37KwzmI",
    "outputId": "34da6e2f-675c-47cc-e1ee-74eeed9ec6d0"
   },
   "outputs": [
    {
     "data": {
      "text/plain": [
       "{'cross', 'dribble', 'pass', 'rest', 'run', 'shot', 'tackle', 'walk'}"
      ]
     },
     "execution_count": 9,
     "metadata": {},
     "output_type": "execute_result"
    }
   ],
   "source": [
    "match_2_instance.actions"
   ]
  },
  {
   "cell_type": "code",
   "execution_count": 10,
   "metadata": {
    "colab": {
     "base_uri": "https://localhost:8080/"
    },
    "id": "nwqqEw1XwzmJ",
    "outputId": "e6ce41f7-e0e9-4981-dc0f-25f20f458cb6"
   },
   "outputs": [
    {
     "name": "stdout",
     "output_type": "stream",
     "text": [
      "Number of gaits in this match is: 611\n"
     ]
    }
   ],
   "source": [
    "match_2_instance.info()"
   ]
  },
  {
   "cell_type": "code",
   "execution_count": 11,
   "metadata": {
    "id": "YuvYkc8ZwzmK"
   },
   "outputs": [],
   "source": [
    "match_1_sequences = match_1_instance.clean_data()\n",
    "match_1_data = ActionData(match_1_sequences)\n",
    "\n",
    "match_2_sequences = match_2_instance.clean_data()\n",
    "match_2_data = ActionData(match_2_sequences)"
   ]
  },
  {
   "cell_type": "code",
   "execution_count": 12,
   "metadata": {
    "id": "5Jn20I__wzmK"
   },
   "outputs": [],
   "source": [
    "all_data_instance = match_1_data + match_2_data"
   ]
  },
  {
   "cell_type": "code",
   "execution_count": 13,
   "metadata": {
    "colab": {
     "base_uri": "https://localhost:8080/"
    },
    "id": "4t9BO9cuwzmL",
    "outputId": "a0d17331-4592-4c22-f89c-eec94bd34167"
   },
   "outputs": [
    {
     "name": "stdout",
     "output_type": "stream",
     "text": [
      "['walk', 'walk', 'walk', 'rest', 'walk', 'walk', 'walk', 'run', 'run', 'run', 'walk', 'walk', 'walk', 'rest', 'walk', 'walk', 'walk', 'run', 'run', 'run']\n",
      "['walk', 'walk', 'walk', 'run', 'run', 'run', 'walk', 'walk', 'walk', 'run', 'run', 'run', 'walk', 'walk', 'walk', 'tackle', 'walk', 'walk', 'walk', 'run']\n"
     ]
    }
   ],
   "source": [
    "print(all_data_instance.sequences[10])\n",
    "print(all_data_instance.sequences[700])"
   ]
  },
  {
   "cell_type": "code",
   "execution_count": 14,
   "metadata": {
    "colab": {
     "base_uri": "https://localhost:8080/",
     "height": 227
    },
    "id": "E0zTyiRewzmL",
    "outputId": "c71f7b67-e70d-4013-cafc-cda3d727baa1"
   },
   "outputs": [],
   "source": [
    "ACTION_MODEL_DATA_PATH = \"../data/model/action_model_data.txt\"\n",
    "all_data_instance.save(ACTION_MODEL_DATA_PATH)"
   ]
  },
  {
   "cell_type": "code",
   "execution_count": 17,
   "metadata": {
    "id": "irhB9WoUwzmL"
   },
   "outputs": [],
   "source": [
    "X, y = [], []  # X: data, y: labels or targets\n",
    "for element in all_data_instance.sequences[1:]:\n",
    "    X.append(element[:-1])\n",
    "    y.append(element[-1])"
   ]
  },
  {
   "cell_type": "code",
   "execution_count": 18,
   "metadata": {
    "id": "-oeDGlkrwzmM"
   },
   "outputs": [],
   "source": [
    "all_data_instance.train_test_split(X, y, train_size=0.7)"
   ]
  },
  {
   "cell_type": "code",
   "execution_count": 19,
   "metadata": {
    "colab": {
     "base_uri": "https://localhost:8080/"
    },
    "id": "Ltkevy4QwzmM",
    "outputId": "dd520f8d-ee95-4ae7-9f6c-4c8d44419c24"
   },
   "outputs": [
    {
     "name": "stdout",
     "output_type": "stream",
     "text": [
      "Size of training set: 784 \n",
      "Size of validation set: 168 \n",
      "Size of test set: 168\n"
     ]
    }
   ],
   "source": [
    "all_data_instance.info()"
   ]
  },
  {
   "cell_type": "code",
   "execution_count": 24,
   "metadata": {
    "id": "db9IcMCPwzmM"
   },
   "outputs": [],
   "source": [
    "label_encoder = LabelEncoder.load(\"data/encoder.json\")\n",
    "# label_encoder.fit(X_train) # Use the defined encoder from now on."
   ]
  },
  {
   "cell_type": "code",
   "execution_count": 25,
   "metadata": {
    "colab": {
     "base_uri": "https://localhost:8080/"
    },
    "id": "Dxw797BSwzmM",
    "outputId": "290fc2e7-f7cf-4919-d556-38a5a368804e"
   },
   "outputs": [
    {
     "data": {
      "text/plain": [
       "{'run': 0,\n",
       " 'walk': 1,\n",
       " 'tackle': 2,\n",
       " 'pass': 3,\n",
       " 'rest': 4,\n",
       " 'cross': 5,\n",
       " 'dribble': 6,\n",
       " 'shot': 7,\n",
       " '<Undefined>': 18}"
      ]
     },
     "execution_count": 25,
     "metadata": {},
     "output_type": "execute_result"
    }
   ],
   "source": [
    "label_encoder.class_to_index"
   ]
  },
  {
   "cell_type": "code",
   "execution_count": 26,
   "metadata": {
    "id": "sqDfpRh4wzmM"
   },
   "outputs": [],
   "source": [
    "(\n",
    "    X_train_transformed,\n",
    "    y_train_transformed,\n",
    "    X_val_transformed,\n",
    "    y_val_transformed,\n",
    "    X_test_transformed,\n",
    "    y_test_transformed,\n",
    ") = all_data_instance.transform(label_encoder)"
   ]
  },
  {
   "cell_type": "code",
   "execution_count": 27,
   "metadata": {
    "colab": {
     "base_uri": "https://localhost:8080/"
    },
    "id": "_U69zbcVwzmN",
    "outputId": "d3eada50-1e7b-49fe-bd5d-5a10529f02f6"
   },
   "outputs": [
    {
     "data": {
      "text/plain": [
       "0"
      ]
     },
     "execution_count": 27,
     "metadata": {},
     "output_type": "execute_result"
    }
   ],
   "source": [
    "# Data point that caused an issue\n",
    "X_train_transformed.pop(70)\n",
    "y_train_transformed.pop(70)"
   ]
  },
  {
   "cell_type": "code",
   "execution_count": 28,
   "metadata": {
    "id": "LeiHOdluwzmN"
   },
   "outputs": [],
   "source": [
    "X_train_padded, X_val_padded, X_test_padded = all_data_instance.pad_sequences(\n",
    "    X_train_transformed, X_val_transformed, X_test_transformed\n",
    ")"
   ]
  },
  {
   "cell_type": "code",
   "execution_count": 29,
   "metadata": {
    "id": "Wm4RDPruwzmN"
   },
   "outputs": [],
   "source": [
    "X_train_padded = np.array(X_train_padded)\n",
    "X_val_padded = np.array(X_val_padded)\n",
    "X_test_padded = np.array(X_test_padded)\n",
    "y_train_transformed = np.array(y_train_transformed)\n",
    "y_val_transformed = np.array(y_val_transformed)\n",
    "y_test_transformed = np.array(y_test_transformed)"
   ]
  },
  {
   "cell_type": "code",
   "execution_count": 32,
   "metadata": {
    "id": "0nePEQXAy8CR"
   },
   "outputs": [],
   "source": [
    "model = ActionModel(encoder=label_encoder)"
   ]
  },
  {
   "cell_type": "code",
   "execution_count": 33,
   "metadata": {
    "id": "ja3t_kChzb8n"
   },
   "outputs": [],
   "source": [
    "model.compile()"
   ]
  },
  {
   "cell_type": "code",
   "execution_count": 36,
   "metadata": {
    "colab": {
     "base_uri": "https://localhost:8080/"
    },
    "id": "1czPLxyPzc5o",
    "outputId": "37c87e25-d52e-46e8-9bc0-5d7f46f30db6"
   },
   "outputs": [
    {
     "name": "stdout",
     "output_type": "stream",
     "text": [
      "Epoch 1/100\n",
      "783/783 [==============================] - 9s 7ms/step - loss: 1.6384 - accuracy: 0.4432 - val_loss: 1.2670 - val_accuracy: 0.4286\n",
      "Epoch 2/100\n",
      "783/783 [==============================] - 4s 5ms/step - loss: 1.3221 - accuracy: 0.5045 - val_loss: 1.2875 - val_accuracy: 0.6190\n",
      "Epoch 3/100\n",
      "783/783 [==============================] - 4s 5ms/step - loss: 1.2411 - accuracy: 0.5364 - val_loss: 1.1086 - val_accuracy: 0.5298\n",
      "Epoch 4/100\n",
      "783/783 [==============================] - 5s 6ms/step - loss: 1.2085 - accuracy: 0.5556 - val_loss: 1.1657 - val_accuracy: 0.6131\n",
      "Epoch 5/100\n",
      "783/783 [==============================] - 4s 5ms/step - loss: 1.2005 - accuracy: 0.5709 - val_loss: 1.0756 - val_accuracy: 0.6071\n",
      "Epoch 6/100\n",
      "783/783 [==============================] - 4s 5ms/step - loss: 1.1867 - accuracy: 0.5632 - val_loss: 1.1465 - val_accuracy: 0.5893\n",
      "Epoch 7/100\n",
      "783/783 [==============================] - 5s 6ms/step - loss: 1.1753 - accuracy: 0.5722 - val_loss: 1.0933 - val_accuracy: 0.5417\n",
      "Epoch 8/100\n",
      "783/783 [==============================] - 4s 5ms/step - loss: 1.1790 - accuracy: 0.5760 - val_loss: 1.0772 - val_accuracy: 0.5774\n",
      "Epoch 9/100\n",
      "783/783 [==============================] - 4s 5ms/step - loss: 1.1668 - accuracy: 0.5837 - val_loss: 1.0718 - val_accuracy: 0.5893\n",
      "Epoch 10/100\n",
      "783/783 [==============================] - 5s 7ms/step - loss: 1.1592 - accuracy: 0.5939 - val_loss: 1.1453 - val_accuracy: 0.5595\n",
      "Epoch 11/100\n",
      "783/783 [==============================] - 4s 6ms/step - loss: 1.1337 - accuracy: 0.5951 - val_loss: 1.1311 - val_accuracy: 0.5774\n",
      "Epoch 12/100\n",
      "783/783 [==============================] - 5s 6ms/step - loss: 1.1539 - accuracy: 0.6054 - val_loss: 1.0488 - val_accuracy: 0.6726\n",
      "Epoch 13/100\n",
      "783/783 [==============================] - 6s 7ms/step - loss: 1.1509 - accuracy: 0.6079 - val_loss: 1.0975 - val_accuracy: 0.6190\n",
      "Epoch 14/100\n",
      "783/783 [==============================] - 4s 5ms/step - loss: 1.1456 - accuracy: 0.5977 - val_loss: 1.0901 - val_accuracy: 0.5595\n",
      "Epoch 15/100\n",
      "783/783 [==============================] - 6s 7ms/step - loss: 1.1346 - accuracy: 0.6066 - val_loss: 1.1743 - val_accuracy: 0.5595\n",
      "Epoch 16/100\n",
      "783/783 [==============================] - 5s 6ms/step - loss: 1.1204 - accuracy: 0.6169 - val_loss: 1.4698 - val_accuracy: 0.5298\n",
      "Epoch 17/100\n",
      "783/783 [==============================] - 6s 7ms/step - loss: 1.1073 - accuracy: 0.6322 - val_loss: 0.9960 - val_accuracy: 0.6726\n",
      "Epoch 18/100\n",
      "783/783 [==============================] - 5s 7ms/step - loss: 1.0935 - accuracy: 0.6475 - val_loss: 1.0583 - val_accuracy: 0.6429\n",
      "Epoch 19/100\n",
      "783/783 [==============================] - 4s 6ms/step - loss: 1.1197 - accuracy: 0.6335 - val_loss: 1.0132 - val_accuracy: 0.6369\n",
      "Epoch 20/100\n",
      "783/783 [==============================] - 5s 6ms/step - loss: 1.0995 - accuracy: 0.6322 - val_loss: 0.9850 - val_accuracy: 0.6726\n",
      "Epoch 21/100\n",
      "783/783 [==============================] - 4s 5ms/step - loss: 1.0928 - accuracy: 0.6552 - val_loss: 1.0432 - val_accuracy: 0.6429\n",
      "Epoch 22/100\n",
      "783/783 [==============================] - 5s 6ms/step - loss: 1.1033 - accuracy: 0.6092 - val_loss: 1.3383 - val_accuracy: 0.4524\n",
      "Epoch 23/100\n",
      "783/783 [==============================] - 5s 6ms/step - loss: 1.1061 - accuracy: 0.6347 - val_loss: 1.0470 - val_accuracy: 0.6548\n",
      "Epoch 24/100\n",
      "783/783 [==============================] - 5s 6ms/step - loss: 1.0910 - accuracy: 0.6513 - val_loss: 0.9941 - val_accuracy: 0.6964\n",
      "Epoch 25/100\n",
      "783/783 [==============================] - 4s 5ms/step - loss: 1.0685 - accuracy: 0.6513 - val_loss: 1.1125 - val_accuracy: 0.6071\n",
      "Epoch 26/100\n",
      "783/783 [==============================] - 4s 6ms/step - loss: 1.0669 - accuracy: 0.6616 - val_loss: 1.0283 - val_accuracy: 0.6607\n",
      "Epoch 27/100\n",
      "783/783 [==============================] - 4s 5ms/step - loss: 1.0951 - accuracy: 0.6322 - val_loss: 1.0360 - val_accuracy: 0.6667\n",
      "Epoch 28/100\n",
      "783/783 [==============================] - 5s 6ms/step - loss: 1.0996 - accuracy: 0.6296 - val_loss: 1.1114 - val_accuracy: 0.5893\n",
      "Epoch 29/100\n",
      "783/783 [==============================] - 5s 6ms/step - loss: 1.1060 - accuracy: 0.6398 - val_loss: 1.0375 - val_accuracy: 0.6607\n",
      "Epoch 30/100\n",
      "783/783 [==============================] - 4s 5ms/step - loss: 1.0903 - accuracy: 0.6513 - val_loss: 1.2062 - val_accuracy: 0.4405\n",
      "Epoch 31/100\n",
      "783/783 [==============================] - 4s 5ms/step - loss: 1.0863 - accuracy: 0.6590 - val_loss: 1.0301 - val_accuracy: 0.6667\n",
      "Epoch 32/100\n",
      "783/783 [==============================] - 5s 6ms/step - loss: 1.0701 - accuracy: 0.6654 - val_loss: 1.3866 - val_accuracy: 0.5238\n",
      "Epoch 33/100\n",
      "783/783 [==============================] - 5s 6ms/step - loss: 1.0623 - accuracy: 0.6628 - val_loss: 1.0013 - val_accuracy: 0.6845\n",
      "Epoch 34/100\n",
      "783/783 [==============================] - 5s 6ms/step - loss: 1.0771 - accuracy: 0.6322 - val_loss: 1.0817 - val_accuracy: 0.6310\n",
      "Epoch 35/100\n",
      "783/783 [==============================] - 4s 5ms/step - loss: 1.0829 - accuracy: 0.6437 - val_loss: 1.0730 - val_accuracy: 0.6429\n",
      "Epoch 36/100\n",
      "783/783 [==============================] - 4s 5ms/step - loss: 1.0723 - accuracy: 0.6679 - val_loss: 1.0721 - val_accuracy: 0.6845\n",
      "Epoch 37/100\n",
      "783/783 [==============================] - 5s 6ms/step - loss: 1.0528 - accuracy: 0.6667 - val_loss: 1.0035 - val_accuracy: 0.6845\n",
      "Epoch 38/100\n",
      "783/783 [==============================] - 4s 6ms/step - loss: 1.0913 - accuracy: 0.6513 - val_loss: 1.1682 - val_accuracy: 0.5595\n",
      "Epoch 39/100\n",
      "783/783 [==============================] - 4s 5ms/step - loss: 1.0910 - accuracy: 0.6590 - val_loss: 1.0389 - val_accuracy: 0.6845\n",
      "Epoch 40/100\n",
      "783/783 [==============================] - 4s 6ms/step - loss: 1.0644 - accuracy: 0.6679 - val_loss: 1.0600 - val_accuracy: 0.6667\n",
      "Epoch 41/100\n",
      "783/783 [==============================] - 4s 5ms/step - loss: 1.0453 - accuracy: 0.6820 - val_loss: 1.0884 - val_accuracy: 0.6726\n",
      "Epoch 42/100\n",
      "783/783 [==============================] - 4s 5ms/step - loss: 1.0684 - accuracy: 0.6807 - val_loss: 1.0770 - val_accuracy: 0.6726\n",
      "Epoch 43/100\n",
      "783/783 [==============================] - 5s 6ms/step - loss: 1.0629 - accuracy: 0.6679 - val_loss: 1.2140 - val_accuracy: 0.6012\n",
      "Epoch 44/100\n",
      "783/783 [==============================] - 4s 5ms/step - loss: 1.0074 - accuracy: 0.6922 - val_loss: 1.1835 - val_accuracy: 0.6131\n",
      "Epoch 45/100\n",
      "783/783 [==============================] - 4s 6ms/step - loss: 1.0789 - accuracy: 0.6641 - val_loss: 1.1234 - val_accuracy: 0.6905\n",
      "Epoch 46/100\n",
      "783/783 [==============================] - 5s 6ms/step - loss: 1.0654 - accuracy: 0.6909 - val_loss: 1.0609 - val_accuracy: 0.7024\n",
      "Epoch 47/100\n",
      "783/783 [==============================] - 4s 5ms/step - loss: 1.1083 - accuracy: 0.6513 - val_loss: 1.1354 - val_accuracy: 0.6250\n",
      "Epoch 48/100\n",
      "783/783 [==============================] - 4s 5ms/step - loss: 1.0911 - accuracy: 0.6296 - val_loss: 1.1122 - val_accuracy: 0.5893\n",
      "Epoch 49/100\n",
      "783/783 [==============================] - 5s 6ms/step - loss: 1.1072 - accuracy: 0.6794 - val_loss: 1.1341 - val_accuracy: 0.6607\n",
      "Epoch 50/100\n",
      "783/783 [==============================] - 5s 6ms/step - loss: 1.0661 - accuracy: 0.6679 - val_loss: 1.1201 - val_accuracy: 0.6548\n",
      "Epoch 51/100\n",
      "783/783 [==============================] - 4s 5ms/step - loss: 1.0604 - accuracy: 0.6782 - val_loss: 1.1102 - val_accuracy: 0.6131\n",
      "Epoch 52/100\n",
      "783/783 [==============================] - 5s 7ms/step - loss: 1.0442 - accuracy: 0.6718 - val_loss: 1.0652 - val_accuracy: 0.6429\n",
      "Epoch 53/100\n",
      "783/783 [==============================] - 4s 6ms/step - loss: 1.0314 - accuracy: 0.6999 - val_loss: 1.0614 - val_accuracy: 0.6905\n",
      "Epoch 54/100\n",
      "783/783 [==============================] - 4s 5ms/step - loss: 1.0580 - accuracy: 0.6718 - val_loss: 1.1681 - val_accuracy: 0.6071\n",
      "Epoch 55/100\n",
      "783/783 [==============================] - 5s 6ms/step - loss: 1.0423 - accuracy: 0.6692 - val_loss: 1.0796 - val_accuracy: 0.6905\n",
      "Epoch 56/100\n",
      "783/783 [==============================] - 4s 5ms/step - loss: 1.0398 - accuracy: 0.6845 - val_loss: 1.0858 - val_accuracy: 0.5893\n",
      "Epoch 57/100\n",
      "783/783 [==============================] - 4s 5ms/step - loss: 1.0353 - accuracy: 0.6807 - val_loss: 1.0598 - val_accuracy: 0.6905\n",
      "Epoch 58/100\n",
      "783/783 [==============================] - 5s 7ms/step - loss: 1.0023 - accuracy: 0.7037 - val_loss: 1.1488 - val_accuracy: 0.7143\n",
      "Epoch 59/100\n",
      "783/783 [==============================] - 5s 6ms/step - loss: 1.0328 - accuracy: 0.7088 - val_loss: 1.0666 - val_accuracy: 0.6786\n",
      "Epoch 60/100\n",
      "783/783 [==============================] - 5s 7ms/step - loss: 1.0312 - accuracy: 0.6948 - val_loss: 1.0892 - val_accuracy: 0.6845\n",
      "Epoch 61/100\n",
      "783/783 [==============================] - 4s 5ms/step - loss: 1.0260 - accuracy: 0.6833 - val_loss: 1.1460 - val_accuracy: 0.6905\n",
      "Epoch 62/100\n",
      "783/783 [==============================] - 4s 5ms/step - loss: 1.0656 - accuracy: 0.6769 - val_loss: 0.9835 - val_accuracy: 0.7143\n",
      "Epoch 63/100\n",
      "783/783 [==============================] - 5s 7ms/step - loss: 1.0350 - accuracy: 0.7088 - val_loss: 1.2222 - val_accuracy: 0.5952\n",
      "Epoch 64/100\n",
      "783/783 [==============================] - 5s 7ms/step - loss: 1.0550 - accuracy: 0.6807 - val_loss: 1.1411 - val_accuracy: 0.5536\n",
      "Epoch 65/100\n",
      "783/783 [==============================] - 4s 5ms/step - loss: 1.0346 - accuracy: 0.6973 - val_loss: 1.1581 - val_accuracy: 0.6429\n",
      "Epoch 66/100\n",
      "783/783 [==============================] - 5s 6ms/step - loss: 1.0731 - accuracy: 0.6807 - val_loss: 1.0787 - val_accuracy: 0.7024\n",
      "Epoch 67/100\n",
      "783/783 [==============================] - 5s 6ms/step - loss: 1.0292 - accuracy: 0.7050 - val_loss: 1.2943 - val_accuracy: 0.6310\n",
      "Epoch 68/100\n",
      "783/783 [==============================] - 5s 7ms/step - loss: 1.0864 - accuracy: 0.6922 - val_loss: 1.1543 - val_accuracy: 0.6905\n",
      "Epoch 69/100\n",
      "783/783 [==============================] - 5s 6ms/step - loss: 1.0041 - accuracy: 0.7075 - val_loss: 1.1416 - val_accuracy: 0.6845\n",
      "Epoch 70/100\n",
      "783/783 [==============================] - 4s 5ms/step - loss: 1.0073 - accuracy: 0.7088 - val_loss: 1.0796 - val_accuracy: 0.6726\n",
      "Epoch 71/100\n",
      "783/783 [==============================] - 5s 7ms/step - loss: 1.0096 - accuracy: 0.7050 - val_loss: 1.0859 - val_accuracy: 0.7083\n",
      "Epoch 72/100\n",
      "783/783 [==============================] - 4s 5ms/step - loss: 1.0008 - accuracy: 0.7165 - val_loss: 1.1968 - val_accuracy: 0.6667\n",
      "Epoch 73/100\n",
      "783/783 [==============================] - 4s 5ms/step - loss: 1.0537 - accuracy: 0.6986 - val_loss: 1.1367 - val_accuracy: 0.6964\n",
      "Epoch 74/100\n",
      "783/783 [==============================] - 5s 6ms/step - loss: 1.0225 - accuracy: 0.7101 - val_loss: 1.1962 - val_accuracy: 0.6310\n",
      "Epoch 75/100\n",
      "783/783 [==============================] - 4s 5ms/step - loss: 1.0431 - accuracy: 0.6909 - val_loss: 1.0568 - val_accuracy: 0.7024\n",
      "Epoch 76/100\n",
      "783/783 [==============================] - 4s 5ms/step - loss: 1.0454 - accuracy: 0.6922 - val_loss: 1.1038 - val_accuracy: 0.7143\n",
      "Epoch 77/100\n",
      "783/783 [==============================] - 5s 6ms/step - loss: 1.0304 - accuracy: 0.7011 - val_loss: 1.1564 - val_accuracy: 0.7143\n",
      "Epoch 78/100\n",
      "783/783 [==============================] - 4s 5ms/step - loss: 1.0085 - accuracy: 0.6986 - val_loss: 1.1694 - val_accuracy: 0.6964\n",
      "Epoch 79/100\n",
      "783/783 [==============================] - 4s 5ms/step - loss: 1.0728 - accuracy: 0.7063 - val_loss: 1.1719 - val_accuracy: 0.6905\n",
      "Epoch 80/100\n",
      "783/783 [==============================] - 5s 7ms/step - loss: 1.0098 - accuracy: 0.7178 - val_loss: 1.1230 - val_accuracy: 0.6607\n",
      "Epoch 81/100\n",
      "783/783 [==============================] - 4s 5ms/step - loss: 1.0217 - accuracy: 0.7024 - val_loss: 1.1404 - val_accuracy: 0.6786\n",
      "Epoch 82/100\n",
      "783/783 [==============================] - 4s 5ms/step - loss: 1.0556 - accuracy: 0.7254 - val_loss: 1.1808 - val_accuracy: 0.6845\n",
      "Epoch 83/100\n",
      "783/783 [==============================] - 5s 6ms/step - loss: 1.0482 - accuracy: 0.7037 - val_loss: 1.1799 - val_accuracy: 0.6488\n",
      "Epoch 84/100\n",
      "783/783 [==============================] - 4s 5ms/step - loss: 1.0251 - accuracy: 0.6948 - val_loss: 1.0557 - val_accuracy: 0.7024\n",
      "Epoch 85/100\n",
      "783/783 [==============================] - 4s 5ms/step - loss: 0.9968 - accuracy: 0.7101 - val_loss: 1.0447 - val_accuracy: 0.7083\n",
      "Epoch 86/100\n",
      "783/783 [==============================] - 5s 7ms/step - loss: 1.0781 - accuracy: 0.6999 - val_loss: 1.6743 - val_accuracy: 0.4286\n",
      "Epoch 87/100\n",
      "783/783 [==============================] - 4s 6ms/step - loss: 1.2734 - accuracy: 0.6833 - val_loss: 1.2613 - val_accuracy: 0.6845\n",
      "Epoch 88/100\n",
      "783/783 [==============================] - 4s 6ms/step - loss: 1.0448 - accuracy: 0.7229 - val_loss: 1.1984 - val_accuracy: 0.6964\n",
      "Epoch 89/100\n",
      "783/783 [==============================] - 5s 7ms/step - loss: 1.0868 - accuracy: 0.7165 - val_loss: 1.2247 - val_accuracy: 0.6667\n",
      "Epoch 90/100\n",
      "783/783 [==============================] - 4s 5ms/step - loss: 1.0612 - accuracy: 0.6986 - val_loss: 1.0976 - val_accuracy: 0.7202\n",
      "Epoch 91/100\n",
      "783/783 [==============================] - 4s 5ms/step - loss: 1.0783 - accuracy: 0.6794 - val_loss: 2.7420 - val_accuracy: 0.4464\n",
      "Epoch 92/100\n",
      "783/783 [==============================] - 5s 6ms/step - loss: 1.0556 - accuracy: 0.6999 - val_loss: 1.1696 - val_accuracy: 0.6905\n",
      "Epoch 93/100\n",
      "783/783 [==============================] - 4s 5ms/step - loss: 1.0888 - accuracy: 0.7075 - val_loss: 1.2889 - val_accuracy: 0.6964\n",
      "Epoch 94/100\n",
      "783/783 [==============================] - 4s 6ms/step - loss: 1.0724 - accuracy: 0.7037 - val_loss: 1.1386 - val_accuracy: 0.6667\n",
      "Epoch 95/100\n",
      "783/783 [==============================] - 5s 6ms/step - loss: 1.0133 - accuracy: 0.6935 - val_loss: 1.1811 - val_accuracy: 0.5893\n",
      "Epoch 96/100\n",
      "783/783 [==============================] - 4s 5ms/step - loss: 1.0456 - accuracy: 0.7190 - val_loss: 1.1487 - val_accuracy: 0.7024\n",
      "Epoch 97/100\n",
      "783/783 [==============================] - 5s 6ms/step - loss: 1.0544 - accuracy: 0.7139 - val_loss: 1.3105 - val_accuracy: 0.6250\n",
      "Epoch 98/100\n",
      "783/783 [==============================] - 4s 5ms/step - loss: 1.0361 - accuracy: 0.7190 - val_loss: 1.1467 - val_accuracy: 0.7202\n",
      "Epoch 99/100\n",
      "783/783 [==============================] - 4s 5ms/step - loss: 1.1310 - accuracy: 0.7254 - val_loss: 1.1643 - val_accuracy: 0.6488\n",
      "Epoch 100/100\n",
      "783/783 [==============================] - 6s 8ms/step - loss: 1.0575 - accuracy: 0.7165 - val_loss: 1.1830 - val_accuracy: 0.7143\n"
     ]
    }
   ],
   "source": [
    "model.fit(\n",
    "    X_train=X_train_padded,\n",
    "    y_train=y_train_transformed,\n",
    "    X_val=X_val_padded,\n",
    "    y_val=y_val_transformed,\n",
    ")"
   ]
  },
  {
   "cell_type": "code",
   "execution_count": 37,
   "metadata": {
    "colab": {
     "base_uri": "https://localhost:8080/",
     "height": 382
    },
    "id": "y5P-wdYK14xZ",
    "outputId": "3256c078-d30d-42a1-e6bc-67787fa2d1c2"
   },
   "outputs": [
    {
     "data": {
      "image/png": "[encoded data removed]",
      "text/plain": [
       "<Figure size 1200x400 with 2 Axes>"
      ]
     },
     "metadata": {},
     "output_type": "display_data"
    }
   ],
   "source": [
    "model.plot()"
   ]
  },
  {
   "cell_type": "code",
   "execution_count": 46,
   "metadata": {
    "colab": {
     "base_uri": "https://localhost:8080/"
    },
    "id": "LcOYQR6e4RwO",
    "outputId": "33d701d1-0308-4c9a-e2a2-9a714fb88db4"
   },
   "outputs": [
    {
     "name": "stdout",
     "output_type": "stream",
     "text": [
      "6/6 [==============================] - 1s 4ms/step - loss: 1.3838 - accuracy: 0.6726\n",
      "Test loss: 1.3837746381759644 \n",
      "Test accuracy: 0.6726190447807312\n"
     ]
    }
   ],
   "source": [
    "model.evaluate(X_test_padded, y_test_transformed)"
   ]
  },
  {
   "cell_type": "code",
   "execution_count": 38,
   "metadata": {
    "colab": {
     "base_uri": "https://localhost:8080/"
    },
    "id": "t-miWDzY15sN",
    "outputId": "9530a833-313b-4760-c1d9-84fd9d984460"
   },
   "outputs": [
    {
     "name": "stdout",
     "output_type": "stream",
     "text": [
      "1/1 [==============================] - 1s 914ms/step\n"
     ]
    },
    {
     "data": {
      "text/plain": [
       "['walk']"
      ]
     },
     "execution_count": 38,
     "metadata": {},
     "output_type": "execute_result"
    }
   ],
   "source": [
    "test_sequence = [\"dribble\", \"pass\", \"walk\", \"walk\", \"shot\", \"run\"]\n",
    "model.predict_standalone(test_sequence)"
   ]
  },
  {
   "cell_type": "code",
   "execution_count": 45,
   "metadata": {
    "id": "Id3VTvkv2daM"
   },
   "outputs": [],
   "source": [
    "model.save()"
   ]
  },
  {
   "cell_type": "code",
   "execution_count": 1,
   "metadata": {},
   "outputs": [],
   "source": [
    "from model import ActionModel\n",
    "from encoder import LabelEncoder"
   ]
  },
  {
   "cell_type": "code",
   "execution_count": 2,
   "metadata": {},
   "outputs": [],
   "source": [
    "label_encoder = LabelEncoder.load(\"../data/model/encoder.json\")\n",
    "model = ActionModel.load(label_encoder)"
   ]
  },
  {
   "cell_type": "code",
   "execution_count": 3,
   "metadata": {},
   "outputs": [
    {
     "name": "stdout",
     "output_type": "stream",
     "text": [
      "1/1 [==============================] - 1s 1s/step\n",
      "[[6.2637222e-03 9.7044599e-01 3.4026667e-03 2.6990965e-04 1.9244937e-02\n",
      "  5.5397629e-07 3.4063632e-04 2.6413702e-05 5.1931816e-06]]\n",
      "[1]\n"
     ]
    },
    {
     "data": {
      "text/plain": [
       "['walk']"
      ]
     },
     "execution_count": 3,
     "metadata": {},
     "output_type": "execute_result"
    }
   ],
   "source": [
    "test_sequence = [\"dribble\", \"pass\", \"walk\", \"walk\", \"shot\", \"run\"]\n",
    "model.predict_standalone(test_sequence)"
   ]
  },
  {
   "cell_type": "markdown",
   "metadata": {
    "id": "hD95iAsY2KTo"
   },
   "source": [
    " # Hyper-parameters Tuning"
   ]
  },
  {
   "cell_type": "code",
   "execution_count": null,
   "metadata": {
    "id": "fJCY88Nu2EwE"
   },
   "outputs": [],
   "source": [
    "from keras.callbacks import EarlyStopping\n",
    "from keras.optimizers import SGD\n",
    "\n",
    "learning_rates = [0.01, 0.001, 0.0001]\n",
    "batch_sizes = [32, 64, 128]\n",
    "optimizers = [SGD(learning_rate=lr) for lr in learning_rates]\n",
    "\n",
    "for optimizer in optimizers:\n",
    "    for batch_size in batch_sizes:\n",
    "        # Compile the model with the current hyperparameters\n",
    "        model.compile(\n",
    "            optimizer=optimizer,\n",
    "            loss=\"sparse_categorical_crossentropy\",\n",
    "            metrics=[\"accuracy\"],\n",
    "        )\n",
    "\n",
    "        # Implement early stopping\n",
    "        early_stopping = EarlyStopping(\n",
    "            monitor=\"val_loss\", patience=10, restore_best_weights=True\n",
    "        )\n",
    "\n",
    "        # Train the model with the current hyperparameters\n",
    "        history = model.fit(\n",
    "            X_train_padded,\n",
    "            y_train_transformed,\n",
    "            epochs=20,\n",
    "            batch_size=batch_size,\n",
    "            validation_data=(X_val_padded, y_val_transformed),\n",
    "            callbacks=[early_stopping],\n",
    "        )\n",
    "\n",
    "        # Print and log the results, and save the best model for each set of hyperparameters\n",
    "\n",
    "        # Evaluate the best model on your test set to obtain the final performance metrics\n",
    "        test_loss, test_accuracy = model.evaluate(X_test_padded, y_test_transformed)\n",
    "        print(f\"Using optimizer: {optimizer.learning_rate}, Batch Size: {batch_size}\")\n",
    "        print(f\"Test Loss: {test_loss}\")\n",
    "        print(f\"Test Accuracy: {test_accuracy}\")"
   ]
  },
  {
   "cell_type": "markdown",
   "metadata": {
    "id": "nX-zQM9i2O6A"
   },
   "source": [
    "## *Outcome*: all possible configurations averaged 47.75 as Test accuracy and 1.414 as Test Loss, trying other hyper-parameters."
   ]
  }
 ],
 "metadata": {
  "colab": {
   "provenance": []
  },
  "kernelspec": {
   "display_name": "Python 3",
   "language": "python",
   "name": "python3"
  },
  "language_info": {
   "codemirror_mode": {
    "name": "ipython",
    "version": 3
   },
   "file_extension": ".py",
   "mimetype": "text/x-python",
   "name": "python",
   "nbconvert_exporter": "python",
   "pygments_lexer": "ipython3",
   "version": "3.11.6"
  },
  "orig_nbformat": 4
 },
 "nbformat": 4,
 "nbformat_minor": 0
}
