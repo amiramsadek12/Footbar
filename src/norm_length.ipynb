{
 "cells": [
  {
   "cell_type": "code",
   "execution_count": 1,
   "metadata": {},
   "outputs": [],
   "source": [
    "from data.normlengthdata import NormLengthData\n",
    "from match import Match\n",
    "from encoder import LabelEncoder\n",
    "from model import GaitLengthPredictor"
   ]
  },
  {
   "cell_type": "code",
   "execution_count": 2,
   "metadata": {},
   "outputs": [],
   "source": [
    "match_1_instance = Match(\"../data/match_1.json\")\n",
    "match_2_instance = Match(\"../data/match_2.json\")"
   ]
  },
  {
   "cell_type": "code",
   "execution_count": 3,
   "metadata": {},
   "outputs": [],
   "source": [
    "# Drop \"no action\" as it only figures twice in the second match\n",
    "for index, element in enumerate(match_2_instance.data):\n",
    "    if element[\"label\"] == \"no action\":\n",
    "        match_2_instance.data.pop(index)"
   ]
  },
  {
   "cell_type": "code",
   "execution_count": 4,
   "metadata": {},
   "outputs": [],
   "source": [
    "match_1_data = NormLengthData(match_1_instance)\n",
    "match_2_data = NormLengthData(match_2_instance)"
   ]
  },
  {
   "cell_type": "code",
   "execution_count": 5,
   "metadata": {},
   "outputs": [],
   "source": [
    "encoder = LabelEncoder.load(\"../data/model/encoder.json\")"
   ]
  },
  {
   "cell_type": "code",
   "execution_count": 6,
   "metadata": {},
   "outputs": [],
   "source": [
    "all_data = match_1_data + match_2_data"
   ]
  },
  {
   "cell_type": "code",
   "execution_count": 7,
   "metadata": {},
   "outputs": [],
   "source": [
    "X, y = all_data.X, all_data.y\n",
    "all_data.train_test_split(X, y)"
   ]
  },
  {
   "cell_type": "code",
   "execution_count": 8,
   "metadata": {},
   "outputs": [
    {
     "name": "stdout",
     "output_type": "stream",
     "text": [
      "Size of training set: 829 \n",
      "Size of validation set: 178 \n",
      "Size of test set: 178\n"
     ]
    }
   ],
   "source": [
    "all_data.info()"
   ]
  },
  {
   "cell_type": "code",
   "execution_count": 9,
   "metadata": {},
   "outputs": [],
   "source": [
    "X_train_transformed, X_val_transformed, X_test_transformed = all_data.transform(encoder)"
   ]
  },
  {
   "cell_type": "code",
   "execution_count": 10,
   "metadata": {},
   "outputs": [],
   "source": [
    "gait_predictor = GaitLengthPredictor()\n",
    "gait_predictor.fit(X_train_transformed, all_data.y_train)"
   ]
  },
  {
   "cell_type": "code",
   "execution_count": 11,
   "metadata": {},
   "outputs": [
    {
     "name": "stdout",
     "output_type": "stream",
     "text": [
      "Validation Metrics: \n",
      "MAE: 12.569494479567194 \n",
      "MSE: 405.99080141435076 \n",
      "RMSE: 20.149213419246685 \n",
      "R-squared (R2): 0.2613283207325052\n",
      "\n",
      "Test Metrics: \n",
      "MAE: 12.457286466114667 \n",
      "MSE: 423.2854716746332 \n",
      "RMSE: 20.57390268458158 \n",
      "R-squared (R2): -0.19465952799840158\n",
      "\n"
     ]
    }
   ],
   "source": [
    "gait_predictor.evaluate(\n",
    "    X_val_transformed, all_data.y_val, X_test_transformed, all_data.y_test\n",
    ")"
   ]
  },
  {
   "cell_type": "code",
   "execution_count": 12,
   "metadata": {},
   "outputs": [
    {
     "data": {
      "text/plain": [
       "{'run': 0,\n",
       " 'walk': 1,\n",
       " 'tackle': 2,\n",
       " 'pass': 3,\n",
       " 'rest': 4,\n",
       " 'cross': 5,\n",
       " 'dribble': 6,\n",
       " 'shot': 7,\n",
       " '<Undefined>': 18}"
      ]
     },
     "execution_count": 12,
     "metadata": {},
     "output_type": "execute_result"
    }
   ],
   "source": [
    "encoder.class_to_index"
   ]
  },
  {
   "cell_type": "code",
   "execution_count": 13,
   "metadata": {},
   "outputs": [
    {
     "data": {
      "text/plain": [
       "{'tackle': 46,\n",
       " 'dribble': 39,\n",
       " 'shot': 33,\n",
       " 'rest': 115,\n",
       " 'cross': 52,\n",
       " 'pass': 42,\n",
       " 'walk': 55,\n",
       " 'run': 37}"
      ]
     },
     "execution_count": 13,
     "metadata": {},
     "output_type": "execute_result"
    }
   ],
   "source": [
    "(match_1_instance + match_2_instance).average_gait_length_per_action"
   ]
  },
  {
   "cell_type": "code",
   "execution_count": 14,
   "metadata": {},
   "outputs": [
    {
     "data": {
      "text/plain": [
       "array([52.90692371, 31.70909723, 53.52598328])"
      ]
     },
     "execution_count": 14,
     "metadata": {},
     "output_type": "execute_result"
    }
   ],
   "source": [
    "test_action = [[2], [7], [5]]\n",
    "gait_predictor.predict(test_action)"
   ]
  },
  {
   "cell_type": "code",
   "execution_count": 15,
   "metadata": {},
   "outputs": [],
   "source": [
    "gait_predictor.save()"
   ]
  },
  {
   "cell_type": "code",
   "execution_count": 16,
   "metadata": {},
   "outputs": [],
   "source": [
    "gait_predictor = GaitLengthPredictor.load()"
   ]
  },
  {
   "cell_type": "code",
   "execution_count": 17,
   "metadata": {},
   "outputs": [
    {
     "data": {
      "text/plain": [
       "array([52.90692371, 31.70909723, 53.52598328])"
      ]
     },
     "execution_count": 17,
     "metadata": {},
     "output_type": "execute_result"
    }
   ],
   "source": [
    "gait_predictor.predict(test_action)"
   ]
  }
 ],
 "metadata": {
  "kernelspec": {
   "display_name": "Python 3",
   "language": "python",
   "name": "python3"
  },
  "language_info": {
   "codemirror_mode": {
    "name": "ipython",
    "version": 3
   },
   "file_extension": ".py",
   "mimetype": "text/x-python",
   "name": "python",
   "nbconvert_exporter": "python",
   "pygments_lexer": "ipython3",
   "version": "3.11.6"
  },
  "orig_nbformat": 4
 },
 "nbformat": 4,
 "nbformat_minor": 2
}
