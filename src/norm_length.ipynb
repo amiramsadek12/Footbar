{
 "cells": [
  {
   "cell_type": "code",
   "execution_count": 11,
   "metadata": {},
   "outputs": [],
   "source": [
    "from data.normlengthdata import NormLengthData\n",
    "from match import Match\n",
    "from encoder import LabelEncoder\n",
    "from model import GaitLengthPredictor"
   ]
  },
  {
   "cell_type": "code",
   "execution_count": 12,
   "metadata": {},
   "outputs": [],
   "source": [
    "match_1_instance = Match(\"../data/match_1.json\")\n",
    "match_2_instance = Match(\"../data/match_2.json\")"
   ]
  },
  {
   "cell_type": "code",
   "execution_count": 13,
   "metadata": {},
   "outputs": [],
   "source": [
    "encoder = LabelEncoder.load(\"../data/model/encoder.json\")"
   ]
  },
  {
   "cell_type": "code",
   "execution_count": 14,
   "metadata": {},
   "outputs": [],
   "source": [
    "match_1_norm_data = NormLengthData(match_1_instance, encoder)\n",
    "match_2_norm_data = NormLengthData(match_2_instance, encoder)"
   ]
  },
  {
   "cell_type": "code",
   "execution_count": 15,
   "metadata": {},
   "outputs": [],
   "source": [
    "all_data = match_1_norm_data + match_2_norm_data"
   ]
  },
  {
   "cell_type": "code",
   "execution_count": 16,
   "metadata": {},
   "outputs": [],
   "source": [
    "all_data.save()"
   ]
  },
  {
   "cell_type": "code",
   "execution_count": 17,
   "metadata": {},
   "outputs": [],
   "source": [
    "X, y = all_data.X, all_data.y\n",
    "all_data.train_test_split(X, y)"
   ]
  },
  {
   "cell_type": "code",
   "execution_count": 18,
   "metadata": {},
   "outputs": [
    {
     "name": "stdout",
     "output_type": "stream",
     "text": [
      "Size of training set: 829 \n",
      "Size of validation set: 178 \n",
      "Size of test set: 178\n"
     ]
    }
   ],
   "source": [
    "all_data.info()"
   ]
  },
  {
   "cell_type": "code",
   "execution_count": 19,
   "metadata": {},
   "outputs": [],
   "source": [
    "all_data = NormLengthData.load()"
   ]
  },
  {
   "cell_type": "code",
   "execution_count": 20,
   "metadata": {},
   "outputs": [
    {
     "name": "stdout",
     "output_type": "stream",
     "text": [
      "Size of training set: 829 \n",
      "Size of validation set: 178 \n",
      "Size of test set: 178\n"
     ]
    }
   ],
   "source": [
    "all_data.train_test_split(X, y)\n",
    "all_data.info()"
   ]
  },
  {
   "cell_type": "code",
   "execution_count": 21,
   "metadata": {},
   "outputs": [],
   "source": [
    "X_train_transformed, X_val_transformed, X_test_transformed = all_data.transform(encoder)"
   ]
  },
  {
   "cell_type": "code",
   "execution_count": 22,
   "metadata": {},
   "outputs": [],
   "source": [
    "gait_predictor = GaitLengthPredictor(data=all_data)\n",
    "gait_predictor.fit(X_train_transformed, all_data.y_train)"
   ]
  },
  {
   "cell_type": "code",
   "execution_count": 23,
   "metadata": {},
   "outputs": [
    {
     "name": "stdout",
     "output_type": "stream",
     "text": [
      "Validation Metrics: \n",
      "MAE: 12.569494479567194 \n",
      "MSE: 405.99080141435076 \n",
      "RMSE: 20.149213419246685 \n",
      "R-squared (R2): 0.2613283207325052\n",
      "\n",
      "Test Metrics: \n",
      "MAE: 12.457286466114667 \n",
      "MSE: 423.2854716746332 \n",
      "RMSE: 20.57390268458158 \n",
      "R-squared (R2): -0.19465952799840158\n",
      "\n"
     ]
    }
   ],
   "source": [
    "gait_predictor.evaluate(\n",
    "    X_val_transformed, all_data.y_val, X_test_transformed, all_data.y_test\n",
    ")"
   ]
  },
  {
   "cell_type": "code",
   "execution_count": 24,
   "metadata": {},
   "outputs": [
    {
     "data": {
      "text/plain": [
       "{'run': 0,\n",
       " 'walk': 1,\n",
       " 'tackle': 2,\n",
       " 'pass': 3,\n",
       " 'rest': 4,\n",
       " 'cross': 5,\n",
       " 'dribble': 6,\n",
       " 'shot': 7}"
      ]
     },
     "execution_count": 24,
     "metadata": {},
     "output_type": "execute_result"
    }
   ],
   "source": [
    "all_data.encoder.class_to_index"
   ]
  },
  {
   "cell_type": "code",
   "execution_count": 25,
   "metadata": {},
   "outputs": [
    {
     "data": {
      "text/plain": [
       "{0: [37.65760869565217, 13.668718123921817],\n",
       " 3: [42.6875, 25.318517803181134],\n",
       " 5: [52.5, 17.168284713389397],\n",
       " 7: [33.77777777777778, 17.96155015444428],\n",
       " 4: [115.77142857142857, 122.25175095778751],\n",
       " 1: [55.326436781609196, 17.22545870313356],\n",
       " 2: [46.225806451612904, 23.742855872763016],\n",
       " 6: [39.256410256410255, 17.190065629441623]}"
      ]
     },
     "execution_count": 25,
     "metadata": {},
     "output_type": "execute_result"
    }
   ],
   "source": [
    "all_data.action_interval"
   ]
  },
  {
   "cell_type": "code",
   "execution_count": 26,
   "metadata": {},
   "outputs": [
    {
     "data": {
      "text/plain": [
       "52"
      ]
     },
     "execution_count": 26,
     "metadata": {},
     "output_type": "execute_result"
    }
   ],
   "source": [
    "test_case = 2\n",
    "gait_predictor.predict(test_case)"
   ]
  },
  {
   "cell_type": "code",
   "execution_count": 27,
   "metadata": {},
   "outputs": [],
   "source": [
    "gait_predictor.save()"
   ]
  },
  {
   "cell_type": "code",
   "execution_count": 28,
   "metadata": {},
   "outputs": [],
   "source": [
    "gait_predictor = GaitLengthPredictor.load()"
   ]
  },
  {
   "cell_type": "code",
   "execution_count": 29,
   "metadata": {},
   "outputs": [
    {
     "data": {
      "text/plain": [
       "20"
      ]
     },
     "execution_count": 29,
     "metadata": {},
     "output_type": "execute_result"
    }
   ],
   "source": [
    "test_case = 2\n",
    "gait_predictor.predict(test_case)"
   ]
  }
 ],
 "metadata": {
  "kernelspec": {
   "display_name": "Python 3",
   "language": "python",
   "name": "python3"
  },
  "language_info": {
   "codemirror_mode": {
    "name": "ipython",
    "version": 3
   },
   "file_extension": ".py",
   "mimetype": "text/x-python",
   "name": "python",
   "nbconvert_exporter": "python",
   "pygments_lexer": "ipython3",
   "version": "3.11.6"
  },
  "orig_nbformat": 4
 },
 "nbformat": 4,
 "nbformat_minor": 2
}
